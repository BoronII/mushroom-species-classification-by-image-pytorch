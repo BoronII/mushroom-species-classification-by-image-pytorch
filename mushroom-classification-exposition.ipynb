{
 "cells": [
  {
   "cell_type": "markdown",
   "metadata": {},
   "source": [
    "# Mushroom  Species Classification "
   ]
  },
  {
   "cell_type": "markdown",
   "metadata": {},
   "source": [
    "The purpose of this project is for me to learn about deep learning with PyTorch, using the fastai front end. \n",
    "\n",
    "**Keywords:** neural nets, deep learning, pytorch, fastai, transfer learning, one cycle learning, boot strapping. "
   ]
  },
  {
   "cell_type": "markdown",
   "metadata": {},
   "source": [
    "## Introduction"
   ]
  },
  {
   "cell_type": "markdown",
   "metadata": {},
   "source": [
    "Have you ever..."
   ]
  },
  {
   "cell_type": "markdown",
   "metadata": {},
   "source": [
    "## Data"
   ]
  },
  {
   "cell_type": "markdown",
   "metadata": {},
   "source": [
    "The list of species of mushroom to included in this project was obtained from [The University of British Columbia Zoology website](https://www.zoology.ubc.ca/~biodiv/mushroom/). This directory contains a list of edible and poisonous species of coastal BC and the Pacific Northwest. There are three reasons that I choose this database to draw from:\n",
    "\n",
    "    1. This list includes the majority of the most common mushroom species found in BC.\n",
    "  \n",
    "As a result, even though my classifier only includes 73 species of mushrooms (of the thousands of possible species), my final mushroom classifier may have some untility for people searching for mushrooms in this limited geograpjhical region \n",
    "   \n",
    "    2. The list contains numerous instances of mustroom species coming from the same family.\n",
    "    3. Included in the information provided about each species is a list of mushroom species that look similar to the given species. \n",
    "    \n",
    "This is desirable because it adds a significant challenge to the problem. It would have been much easier to distinguish between species of mushrooms that have subtantially different features. \n"
   ]
  },
  {
   "cell_type": "markdown",
   "metadata": {},
   "source": [
    "The top 300 images (using the species name as the search term) were downloaded from bing image search using [](). *some not dled*\n",
    "\n",
    "This tool had the advantage of allowing me to automate the gathering of a data set containing over 22,000 images in 76 categories. However this automation comes at the cost of introducing a subtantial amount of noise into the data set. The top 300 image search results included the following types of undesired images:\n",
    "\n",
    "    1. Cartoon images\n",
    "    2. Images that did not contain mushrooms\n",
    "    3. Images that were too zoomed out\n",
    "    4. Images that were too close up\n",
    "    5. Images with writing or objects obscuring the mushrooms\n",
    "    6. Images that featured objects such as: people, swiss army knives, baskets, tupperware, cell phones\n",
    "    7. Images that did not contain any intact mushrooms\n",
    "    8. Black and white images\n",
    "    9. duplicate images\n",
    "    10. Images of cooked mushrooms\n",
    "    11. Images of mouldy mushrooms\n",
    "    12. Blurry images \n",
    "    13. Images that were too small\n",
    "    14. Low contrast images\n",
    "\n",
    "The initial data set was cleaned by me, the final data set contains 'X number' of images from 73 categories. \n",
    "Some of these types of noise such as images of non-mushroom and cartoon images can be removed from the data set without introducing subtaintial limitations as to the types of images that can be input by a user in the final production model. Removal of other types of noise (zoomed out images, zoomed in images, blurry images, images that contain common objects etc...) introduces limitations on the generalizability of the model that need to be communicated to the user so that she can obtain the most reliable predictions from the model."
   ]
  },
  {
   "cell_type": "markdown",
   "metadata": {},
   "source": [
    "### Cleaning"
   ]
  },
  {
   "cell_type": "markdown",
   "metadata": {},
   "source": [
    "Images for each of the 76 initial categories were saved into seprate folders. As a first step I looked through each of these folders "
   ]
  },
  {
   "cell_type": "markdown",
   "metadata": {},
   "source": [
    "**Deleted:** cartoons, images of non mushrooms, far away images of mushrooms, images with logo/writing covering the photo, images with people featured prominently (images with hands/arms were left in), images of mushrooms split in half (only, I left it if it also contained a whole mushroom, pictures of just the stems (too close up), things that were splices of many images, images with objects obscuring the mushroom, black and white photos, duplicates, pictures of spores/spore prints, cooked mushrooms,  blurry, dried mushrooms, mushrooms in baskets/tupper ware, too close up, very low contrast with bg, not rotted, swiss army knives, cell phones, \n",
    "    - Did this realizing that it puts limitations on the kinds of images users can enter. Tried to do it so that I could keep the instructions for image entry simple and remain able to accept most reasonable images.\n",
    "    - I was doin this, deleting images that I thought it would be hard to learn from based on what they looked like to me (a human)\n"
   ]
  },
  {
   "cell_type": "markdown",
   "metadata": {},
   "source": []
  },
  {
   "cell_type": "markdown",
   "metadata": {},
   "source": [
    "### Limitations"
   ]
  },
  {
   "cell_type": "markdown",
   "metadata": {},
   "source": [
    "- The pictures should be: colour, from close up, of the whole intact fresh (not rotted, not cooked) mushroom(s). \n",
    "- For the production version Of the model I will guide the user to input a good picture by\n",
    "    1. providing simple instructions: \"Input a colour image of \n",
    "    2. providing example images."
   ]
  },
  {
   "cell_type": "code",
   "execution_count": null,
   "metadata": {},
   "outputs": [],
   "source": []
  },
  {
   "cell_type": "markdown",
   "metadata": {},
   "source": [
    "## Building and training the neural net v1"
   ]
  },
  {
   "cell_type": "markdown",
   "metadata": {},
   "source": [
    "In this first version of the project I will restrict myself to the techniques introduced to me in in the first 3 lessons of the course [\"practical deep learning for coders\"](https://course.fast.ai/). In later versions of the project I intend to improve on the results that I achieve here and finally put the model into production. \n"
   ]
  },
  {
   "cell_type": "markdown",
   "metadata": {},
   "source": [
    "We import all the necessary packages. We will be building our classifier using the [fastai V1 library](http://www.fast.ai/2018/10/02/fastai-ai/) which sits on top of [Pytorch 1.0](https://hackernoon.com/pytorch-1-0-468332ba5163). "
   ]
  },
  {
   "cell_type": "code",
   "execution_count": 1,
   "metadata": {},
   "outputs": [],
   "source": [
    "from fastai.vision import *\n",
    "from fastai.metrics import error_rate\n",
    "import numpy as np"
   ]
  },
  {
   "cell_type": "code",
   "execution_count": null,
   "metadata": {},
   "outputs": [],
   "source": [
    "\n",
    "\n"
   ]
  },
  {
   "cell_type": "markdown",
   "metadata": {},
   "source": [
    "## Supplementary materials"
   ]
  },
  {
   "cell_type": "code",
   "execution_count": null,
   "metadata": {},
   "outputs": [],
   "source": []
  }
 ],
 "metadata": {
  "environment": {
   "name": "pytorch-gpu.1-4.m48",
   "type": "gcloud",
   "uri": "gcr.io/deeplearning-platform-release/pytorch-gpu.1-4:m48"
  },
  "kernelspec": {
   "display_name": "Python 3",
   "language": "python",
   "name": "python3"
  },
  "language_info": {
   "codemirror_mode": {
    "name": "ipython",
    "version": 3
   },
   "file_extension": ".py",
   "mimetype": "text/x-python",
   "name": "python",
   "nbconvert_exporter": "python",
   "pygments_lexer": "ipython3",
   "version": "3.7.6"
  }
 },
 "nbformat": 4,
 "nbformat_minor": 4
}
